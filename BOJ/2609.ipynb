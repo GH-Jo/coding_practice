{
 "cells": [
  {
   "cell_type": "code",
   "execution_count": null,
   "metadata": {},
   "outputs": [],
   "source": [
    "# 최대공약수와 최소공배수"
   ]
  },
  {
   "cell_type": "code",
   "execution_count": 4,
   "metadata": {},
   "outputs": [
    {
     "name": "stdout",
     "output_type": "stream",
     "text": [
      "6\n",
      "72\n"
     ]
    }
   ],
   "source": [
    "a, b = map(int, input().split())\n",
    "\n",
    "# 최대공약수\n",
    "# 방법1. 1부터 둘 중 작은수까지 나눠본다.\n",
    "# 방법2. 인수분해를 해서 공통부분을 구한다.\n",
    "\n",
    "# 1 \n",
    "end = min(a, b)\n",
    "i = 1\n",
    "cofactor = 1\n",
    "while i < end:\n",
    "    i += 1\n",
    "    if (not a % i) and (not b % i):\n",
    "        cofactor = i\n",
    "print(cofactor)\n",
    "\n",
    "\n",
    "################\n",
    "# 2: TODO \n",
    "################\n",
    "\n",
    "\n",
    "\n",
    "\n",
    "# 최소공배수\n",
    "# a*b = 최대공약수 * 최대공약수 * a에만 있는 인수 * b에만 있는 인수\n",
    "print(a*b//cofactor)\n"
   ]
  }
 ],
 "metadata": {
  "kernelspec": {
   "display_name": "Python 3.9.12 ('base')",
   "language": "python",
   "name": "python3"
  },
  "language_info": {
   "codemirror_mode": {
    "name": "ipython",
    "version": 3
   },
   "file_extension": ".py",
   "mimetype": "text/x-python",
   "name": "python",
   "nbconvert_exporter": "python",
   "pygments_lexer": "ipython3",
   "version": "3.9.12"
  },
  "orig_nbformat": 4,
  "vscode": {
   "interpreter": {
    "hash": "00649729362fc44fc3af4fdb08ba91fabb2b1f91bf42593b1c6bfffd217bd6e3"
   }
  }
 },
 "nbformat": 4,
 "nbformat_minor": 2
}
